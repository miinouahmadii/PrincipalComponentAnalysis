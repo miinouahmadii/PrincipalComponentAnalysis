{
  "nbformat": 4,
  "nbformat_minor": 0,
  "metadata": {
    "colab": {
      "name": "Untitled12.ipynb",
      "provenance": [],
      "collapsed_sections": []
    },
    "kernelspec": {
      "name": "python3",
      "display_name": "Python 3"
    }
  },
  "cells": [
    {
      "cell_type": "code",
      "metadata": {
        "colab": {
          "base_uri": "https://localhost:8080/"
        },
        "id": "R5XfcL-Snmc7",
        "outputId": "654c0af2-3fcb-46b7-fb3a-17ded74a6ebb"
      },
      "source": [
        "import numpy as np\n",
        "magic_data = np.genfromtxt(\"magic04.data\", delimiter=',')\n",
        "X = magic_data[:,range(10)]\n",
        "\n",
        "### center data points and calculate covariance matrix\n",
        "X_cen = X-np.mean(X, axis=0)\n",
        "cov_est = np.dot(X_cen.T, X_cen)/X_cen.shape[0]\n",
        "\n",
        "eps = 0.0001\n",
        "dif = 1\n",
        "\n",
        "w = np.ones(X.shape[1])\n",
        "w_new = np.ones(X.shape[1])\n",
        "while (dif > eps):\n",
        "    w = w_new\n",
        "    w_tmp = np.dot(cov_est, w)\n",
        "    ind = np.abs(w_tmp).argmax()\n",
        "    w_new = w_tmp/w_tmp[ind]\n",
        "    dif =np.square(np.sum(np.power((w_new-w),2)))\n",
        "\n",
        "eig_val = w_new[ind]/w[ind]\n",
        "\n",
        "print('The largest eigenvalue I calculated is \\n' + str( eig_val))\n",
        "print('Its correspondin eigenvector is')\n",
        "print(w_new)"
      ],
      "execution_count": null,
      "outputs": [
        {
          "output_type": "stream",
          "text": [
            "The largest eigenvalue I calculated is \n",
            "1.0\n",
            "Its correspondin eigenvector is\n",
            "[ 3.47016268e-01  1.19535999e-01  3.49025810e-03 -1.06523256e-03\n",
            " -6.00630216e-04 -3.31772193e-01 -5.62180996e-03  3.61878130e-03\n",
            " -7.49076619e-02  1.00000000e+00]\n"
          ],
          "name": "stdout"
        }
      ]
    }
  ]
}